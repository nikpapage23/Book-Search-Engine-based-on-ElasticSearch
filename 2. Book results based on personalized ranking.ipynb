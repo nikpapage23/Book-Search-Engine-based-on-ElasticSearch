{
 "cells": [
  {
   "cell_type": "code",
   "execution_count": 1,
   "id": "c04a4747",
   "metadata": {},
   "outputs": [],
   "source": [
    "from elasticsearch import Elasticsearch\n",
    "import pandas as pd\n",
    "from beautifultable import BeautifulTable\n",
    "import math"
   ]
  },
  {
   "cell_type": "code",
   "execution_count": 2,
   "id": "e94759ff",
   "metadata": {},
   "outputs": [],
   "source": [
    "# Connect to Elastic search\n",
    "es = Elasticsearch([{'host': 'localhost', 'port': 9200}])"
   ]
  },
  {
   "cell_type": "code",
   "execution_count": 3,
   "id": "c8e26779",
   "metadata": {},
   "outputs": [
    {
     "name": "stdout",
     "output_type": "stream",
     "text": [
      "Connection successful!\n"
     ]
    },
    {
     "name": "stderr",
     "output_type": "stream",
     "text": [
      "c:\\users\\papag\\appdata\\local\\programs\\python\\python36\\lib\\site-packages\\elasticsearch\\connection\\base.py:200: ElasticsearchWarning: Elasticsearch built-in security features are not enabled. Without authentication, your cluster could be accessible to anyone. See https://www.elastic.co/guide/en/elasticsearch/reference/7.15/security-minimal-setup.html to enable security.\n",
      "  warnings.warn(message, category=ElasticsearchWarning)\n"
     ]
    }
   ],
   "source": [
    "# Check if the connection was successful\n",
    "if es.ping():\n",
    "    print(\"Connection successful!\")\n",
    "else:\n",
    "    print(\"Connection error!\")"
   ]
  },
  {
   "cell_type": "code",
   "execution_count": 4,
   "id": "2b56b36a",
   "metadata": {},
   "outputs": [],
   "source": [
    "# Create pandas dataframe 'rat_df' from 'BX-Book-Ratings.csv' file\n",
    "# Delete all the rows from dataframe which have rating = 0\n",
    "rat_df = pd.read_csv(\"BX-Book-Ratings.csv\")\n",
    "rat_df = rat_df.where(rat_df['rating'] != 0).dropna()"
   ]
  },
  {
   "cell_type": "code",
   "execution_count": 5,
   "id": "21ac9fe0",
   "metadata": {},
   "outputs": [
    {
     "name": "stdout",
     "output_type": "stream",
     "text": [
      "\n",
      "######################################################################################\n",
      "          ___           _     ___                  _      ___           _          \n",
      "  ___ ___| _ ) ___  ___| |__ / __| ___ __ _ _ _ __| |_   | __|_ _  __ _(_)_ _  ___ ©\n",
      " / -_)___| _ \\/ _ \\/ _ \\ / / \\__ \\/ -_) _` | '_/ _| ' \\  | _|| ' \\/ _` | | ' \\/ -_)\n",
      " \\___|   |___/\\___/\\___/_\\_\\ |___/\\___\\__,_|_| \\__|_||_| |___|_||_\\__, |_|_||_\\___|\n",
      "                                                                  |___/            \n",
      "\n",
      "                          __...--~~~~~-._   _.-~~~~~--...__\n",
      "                        //               `V'               \\ \n",
      "                       //                 |                 \\ \n",
      "                      //__...--~~~~~~-._  |  _.-~~~~~~--...__\\ \n",
      "                     //__.....----~~~~._\\ | /_.~~~~----.....__\\\n",
      "                    ====================\\|//====================\n",
      "                                        `---`\n",
      "######################################################################################\n",
      "\n",
      "Enter your ID: 11676\n",
      "Enter a lemma to search: clara\n"
     ]
    }
   ],
   "source": [
    "print(\"\"\"\n",
    "######################################################################################\n",
    "          ___           _     ___                  _      ___           _          \n",
    "  ___ ___| _ ) ___  ___| |__ / __| ___ __ _ _ _ __| |_   | __|_ _  __ _(_)_ _  ___ ©\n",
    " / -_)___| _ \\/ _ \\/ _ \\ / / \\__ \\/ -_) _` | '_/ _| ' \\  | _|| ' \\/ _` | | ' \\/ -_)\n",
    " \\___|   |___/\\___/\\___/_\\_\\ |___/\\___\\__,_|_| \\__|_||_| |___|_||_\\__, |_|_||_\\___|\n",
    "                                                                  |___/            \n",
    "\n",
    "                          __...--~~~~~-._   _.-~~~~~--...__\n",
    "                        //               `V'               \\\\ \n",
    "                       //                 |                 \\\\ \n",
    "                      //__...--~~~~~~-._  |  _.-~~~~~~--...__\\\\ \n",
    "                     //__.....----~~~~._\\ | /_.~~~~----.....__\\\\\n",
    "                    ====================\\\\|//====================\n",
    "                                        `---`\n",
    "######################################################################################\n",
    "\"\"\")\n",
    "\n",
    "# User enters his ID and a book lemma to search\n",
    "user_id = int(input(\"Enter your ID: \"))\n",
    "user_search = input(\"Enter a lemma to search: \")"
   ]
  },
  {
   "cell_type": "code",
   "execution_count": 6,
   "id": "59953042",
   "metadata": {},
   "outputs": [],
   "source": [
    "# Create 'avg_rat' dataframe which contains the average rating for each book\n",
    "avg_rat = rat_df.groupby(['isbn'])['rating'].mean().reset_index(name='avg_rating')"
   ]
  },
  {
   "cell_type": "code",
   "execution_count": 7,
   "id": "ae70f416",
   "metadata": {},
   "outputs": [],
   "source": [
    "# Create 'usr_rat' dataframe which contains all of the user's personal ratings\n",
    "usr_rat = rat_df.where(rat_df['uid'] == user_id).dropna()"
   ]
  },
  {
   "cell_type": "code",
   "execution_count": 8,
   "id": "4f4b1788",
   "metadata": {},
   "outputs": [
    {
     "name": "stderr",
     "output_type": "stream",
     "text": [
      "c:\\users\\papag\\appdata\\local\\programs\\python\\python36\\lib\\site-packages\\elasticsearch\\connection\\base.py:200: ElasticsearchWarning: Elasticsearch built-in security features are not enabled. Without authentication, your cluster could be accessible to anyone. See https://www.elastic.co/guide/en/elasticsearch/reference/7.15/security-minimal-setup.html to enable security.\n",
      "  warnings.warn(message, category=ElasticsearchWarning)\n"
     ]
    }
   ],
   "source": [
    "# Run a query in index 'books' of Elasticsearch\n",
    "res = es.search(index='books', query = {\"match\": {\"book_title\": user_search}}, size=10000)"
   ]
  },
  {
   "cell_type": "code",
   "execution_count": 9,
   "id": "d8c5e587",
   "metadata": {},
   "outputs": [],
   "source": [
    "# Store the results of the query in 'temp' dictionary\n",
    "temp = {}\n",
    "for hit in res['hits']['hits']:\n",
    "    temp[hit['_id']] = [hit['_source']['book_title'], hit['_score']]"
   ]
  },
  {
   "cell_type": "code",
   "execution_count": 10,
   "id": "6b6229d7",
   "metadata": {},
   "outputs": [
    {
     "name": "stderr",
     "output_type": "stream",
     "text": [
      "c:\\users\\papag\\appdata\\local\\programs\\python\\python36\\lib\\site-packages\\beautifultable\\utils.py:125: FutureWarning: 'BeautifulTable.column_headers' has been deprecated in 'v1.0.0' and will be removed in 'v1.2.0'. Use 'BTColumnCollection.header' instead.\n",
      "  warnings.warn(message, FutureWarning)\n"
     ]
    }
   ],
   "source": [
    "# Create a table for better visualization of our data\n",
    "table = BeautifulTable(maxwidth=120)\n",
    "table.column_headers = [\"BOOK RESULTS\", \"PERSONALIZED SCORE\", \"BM25 SCORE\", \"AVERAGE RATING\", \"PERSONAL RATING\"]\n",
    "table.set_style(BeautifulTable.STYLE_RST)"
   ]
  },
  {
   "cell_type": "code",
   "execution_count": 11,
   "id": "03488eb8",
   "metadata": {
    "scrolled": true
   },
   "outputs": [],
   "source": [
    "# Repeat for each dictionary 'temp' item\n",
    "for i in temp.keys():\n",
    "    bm25_score = temp.get(i)[1]\n",
    "    if i in avg_rat['isbn'].values: # Check if there is an average rating for the given book\n",
    "        average = avg_rat.loc[avg_rat['isbn'] == i, 'avg_rating'].values[0]\n",
    "    else:\n",
    "        average = 0 # average rating doesn't exist\n",
    "\n",
    "    if i in usr_rat['isbn'].values: # Check if there is a personal rating for the given book\n",
    "        personal = usr_rat.loc[(usr_rat['isbn'] == i), 'rating'].values[0]\n",
    "    else:\n",
    "        personal = 0 # personal rating doesn't exist\n",
    "        \n",
    "# ================================= ~ COMPUTE THE PERSONALIZED SCORE FOR EACH CASE ~ ========================================\n",
    "    \n",
    "    # ~ CASE 1 ~\n",
    "    # Both average and personal ratings don't exist\n",
    "    if (average == 0) & (personal == 0):\n",
    "        total_ranking = bm25_score - math.log(bm25_score) # Decrease BM25 score logarithmically\n",
    "    \n",
    "    # ~ CASE 2 ~\n",
    "    # There is no personal rating: average rating is either positive (>5), or negative (<=5)\n",
    "    elif (personal == 0):\n",
    "        if average > 5 :\n",
    "            total_ranking = bm25_score + bm25_score * (1/30) * (average)\n",
    "        else:\n",
    "            total_ranking = bm25_score - bm25_score/(average) \n",
    "    \n",
    "    # ~ CASE 3 ~\n",
    "    # There is no average rating: personal rating is either positive (>5), or negative (<=5)\n",
    "    elif (average == 0):\n",
    "        if personal > 5 :\n",
    "            total_ranking = bm25_score + bm25_score * (1/20) * (personal)\n",
    "        else:\n",
    "            total_ranking = bm25_score - bm25_score/(personal) \n",
    "    \n",
    "    # ~ CASE 4 ~\n",
    "    # There are both average and personal ratings\n",
    "    else:\n",
    "        # Both personal and average ratings are positive (>5)\n",
    "        if (personal > 5) & (average > 5):\n",
    "            total_ranking = bm25_score + bm25_score * ((1/20) * personal + (1/30) * average)\n",
    "        \n",
    "        # Personal rating is positive, but average is negative    \n",
    "        elif (personal > 5) & (average <= 5):\n",
    "            total_ranking = bm25_score + bm25_score * (1/20) * (personal) - bm25_score/(average) \n",
    "        \n",
    "        # Average rating is positive, but personal is negative\n",
    "        elif (personal <= 5) & (average > 5):\n",
    "            total_ranking = bm25_score + bm25_score * (1/30) * (average) - bm25_score/(personal) \n",
    "        \n",
    "        # Both personal and average ratings are negative (<=5)\n",
    "        else:            \n",
    "            total_ranking = bm25_score  - bm25_score/(0.6 * personal + 0.4 * average)\n",
    "    \n",
    "    # Add a new row of data in the table\n",
    "    table.rows.append([temp.get(i)[0], total_ranking, bm25_score, average, personal])"
   ]
  },
  {
   "cell_type": "code",
   "execution_count": 12,
   "id": "dafa387c",
   "metadata": {},
   "outputs": [
    {
     "name": "stderr",
     "output_type": "stream",
     "text": [
      "c:\\users\\papag\\appdata\\local\\programs\\python\\python36\\lib\\site-packages\\beautifultable\\utils.py:125: FutureWarning: 'BeautifulTable.sort' has been deprecated in 'v1.0.0' and will be removed in 'v1.2.0'. Use 'BTRowCollection.sort' instead.\n",
      "  warnings.warn(message, FutureWarning)\n"
     ]
    }
   ],
   "source": [
    "# Sort the table by the column 'PERSONALIZED SCORE' in descending order\n",
    "table.sort('PERSONALIZED SCORE', reverse = True)"
   ]
  },
  {
   "cell_type": "code",
   "execution_count": 13,
   "id": "bae89757",
   "metadata": {
    "scrolled": false
   },
   "outputs": [
    {
     "name": "stdout",
     "output_type": "stream",
     "text": [
      "=================================================== ==================== ============ ================ =================\n",
      "                   BOOK RESULTS                      PERSONALIZED SCORE   BM25 SCORE   AVERAGE RATING   PERSONAL RATING \n",
      "=================================================== ==================== ============ ================ =================\n",
      "                   Clara Callan                            20.935           12.645         7.667              8.0       \n",
      "                  Henry and Clara                          18.014           11.622          7.5               6.0       \n",
      "              Clara Bow: Runnin' Wild                      13.619           10.752          8.0                0        \n",
      "         Sweet Clara and the Freedom Quilt                 11.845           9.351           8.0                0        \n",
      " This Old House: The Story of Clara Rust Alaska Pi         9.397            7.419           8.0                0        \n",
      "                       oneer                                                                                            \n",
      "          Clara Mondschein's Melancholia                   9.169            11.622           0                 0        \n",
      "                  Clara : A Novel                          9.169            11.622           0                 0        \n",
      " Clara Barton : Founder Of The American Red Cross          8.741            6.724           9.0                0        \n",
      "          (Childhood Of Famous Americans)                                                                               \n",
      "              Clara Joins the Circus                       8.377            10.752           0                 0        \n",
      "        Clara Barton (Women of Achievement)                 7.7             10.003           0                 0        \n",
      "    Dancing With Clara (Signet Regency Romance)            7.013            9.351           4.0                0        \n",
      " South Bay Trails: Outdoor Adventures in & Around          6.824            5.249           9.0                0        \n",
      " Santa Clara Valley : From the Diablo Range to the                                                                      \n",
      "                   Pacific Ocean                                                                                        \n",
      "      Driven to Kill: The Clara Harris Story               6.607            8.779            0                 0        \n",
      "    Clara and the Bookwagon (I Can Read Book 3)            6.258            7.823           5.0                0        \n",
      " The Glory Cloak : A Novel of Louisa May Alcott an         4.818            6.724            0                 0        \n",
      "                  d Clara Barton                                                                                        \n",
      "=================================================== ==================== ============ ================ =================\n"
     ]
    }
   ],
   "source": [
    "# Print the results\n",
    "print(table)"
   ]
  },
  {
   "cell_type": "code",
   "execution_count": null,
   "id": "8cb937c5",
   "metadata": {},
   "outputs": [],
   "source": []
  }
 ],
 "metadata": {
  "kernelspec": {
   "display_name": "Python 3",
   "language": "python",
   "name": "python3"
  },
  "language_info": {
   "codemirror_mode": {
    "name": "ipython",
    "version": 3
   },
   "file_extension": ".py",
   "mimetype": "text/x-python",
   "name": "python",
   "nbconvert_exporter": "python",
   "pygments_lexer": "ipython3",
   "version": "3.6.8"
  }
 },
 "nbformat": 4,
 "nbformat_minor": 5
}
