{
 "cells": [
  {
   "cell_type": "code",
   "execution_count": 1,
   "id": "7035eeaf",
   "metadata": {},
   "outputs": [],
   "source": [
    "from elasticsearch import Elasticsearch, helpers\n",
    "import pandas as pd\n",
    "from beautifultable import BeautifulTable"
   ]
  },
  {
   "cell_type": "code",
   "execution_count": 2,
   "id": "8d32db62",
   "metadata": {},
   "outputs": [],
   "source": [
    "# Connect to Elastic search\n",
    "es = Elasticsearch([{'host': 'localhost', 'port': 9200}])"
   ]
  },
  {
   "cell_type": "code",
   "execution_count": 3,
   "id": "746575d1",
   "metadata": {},
   "outputs": [
    {
     "name": "stdout",
     "output_type": "stream",
     "text": [
      "Connection successful!\n"
     ]
    },
    {
     "name": "stderr",
     "output_type": "stream",
     "text": [
      "c:\\users\\papag\\appdata\\local\\programs\\python\\python36\\lib\\site-packages\\elasticsearch\\connection\\base.py:200: ElasticsearchWarning: Elasticsearch built-in security features are not enabled. Without authentication, your cluster could be accessible to anyone. See https://www.elastic.co/guide/en/elasticsearch/reference/7.15/security-minimal-setup.html to enable security.\n",
      "  warnings.warn(message, category=ElasticsearchWarning)\n"
     ]
    }
   ],
   "source": [
    "# Check if the connection was successful\n",
    "if es.ping():\n",
    "    print(\"Connection successful!\")\n",
    "else:\n",
    "    print(\"Connection error!\")"
   ]
  },
  {
   "cell_type": "code",
   "execution_count": 4,
   "id": "29cfe11c",
   "metadata": {},
   "outputs": [],
   "source": [
    "# Create a pandas dataframe from the csv file 'BX-Books'\n",
    "df = pd.read_csv(\"BX-Books.csv\")"
   ]
  },
  {
   "cell_type": "code",
   "execution_count": 5,
   "id": "a7f9856c",
   "metadata": {},
   "outputs": [],
   "source": [
    "# If an index named \"books\" already exits, delete it\n",
    "if es.indices.exists(index='books'):\n",
    "    es.indices.delete(index='books', ignore=400)"
   ]
  },
  {
   "cell_type": "code",
   "execution_count": 6,
   "id": "7324ec34",
   "metadata": {},
   "outputs": [
    {
     "data": {
      "text/plain": [
       "{'acknowledged': True, 'shards_acknowledged': True, 'index': 'books'}"
      ]
     },
     "execution_count": 6,
     "metadata": {},
     "output_type": "execute_result"
    }
   ],
   "source": [
    "# Create new index named \"books\"\n",
    "es.indices.create(index='books', ignore=400)"
   ]
  },
  {
   "cell_type": "code",
   "execution_count": 7,
   "id": "90e16855",
   "metadata": {},
   "outputs": [],
   "source": [
    "# Function that reads the data from the csv\n",
    "def generator(df):\n",
    "    for index, line in df.iterrows():\n",
    "        yield {\n",
    "            \"_index\": \"books\",\n",
    "            \"_type\": \"_doc\",\n",
    "            \"_id\": f\"{line['isbn']}\",\n",
    "            \"_source\": line.to_dict(),\n",
    "        }"
   ]
  },
  {
   "cell_type": "code",
   "execution_count": 8,
   "id": "b4afc2a6",
   "metadata": {},
   "outputs": [
    {
     "name": "stderr",
     "output_type": "stream",
     "text": [
      "c:\\users\\papag\\appdata\\local\\programs\\python\\python36\\lib\\site-packages\\elasticsearch\\connection\\base.py:200: ElasticsearchWarning: [types removal] Specifying types in bulk requests is deprecated.\n",
      "  warnings.warn(message, category=ElasticsearchWarning)\n"
     ]
    },
    {
     "name": "stdout",
     "output_type": "stream",
     "text": [
      "Upload done!\n"
     ]
    }
   ],
   "source": [
    "# Upload data into elastic search\n",
    "try:\n",
    "    res = helpers.bulk(es, generator(df))\n",
    "    print(\"Upload done!\")\n",
    "except Exception as e:\n",
    "    pass"
   ]
  },
  {
   "cell_type": "code",
   "execution_count": 9,
   "id": "55d6583b",
   "metadata": {},
   "outputs": [
    {
     "name": "stdout",
     "output_type": "stream",
     "text": [
      "\n",
      "######################################################################################\n",
      "          ___           _     ___                  _      ___           _          \n",
      "  ___ ___| _ ) ___  ___| |__ / __| ___ __ _ _ _ __| |_   | __|_ _  __ _(_)_ _  ___ ©\n",
      " / -_)___| _ \\/ _ \\/ _ \\ / / \\__ \\/ -_) _` | '_/ _| ' \\  | _|| ' \\/ _` | | ' \\/ -_)\n",
      " \\___|   |___/\\___/\\___/_\\_\\ |___/\\___\\__,_|_| \\__|_||_| |___|_||_\\__, |_|_||_\\___|\n",
      "                                                                  |___/            \n",
      "\n",
      "                          __...--~~~~~-._   _.-~~~~~--...__\n",
      "                        //               `V'               \\ \n",
      "                       //                 |                 \\ \n",
      "                      //__...--~~~~~~-._  |  _.-~~~~~~--...__\\ \n",
      "                     //__.....----~~~~._\\ | /_.~~~~----.....__\\\n",
      "                    ====================\\|//====================\n",
      "                                        `---`\n",
      "######################################################################################\n",
      "\n",
      "Enter a lemma to search: clara\n"
     ]
    }
   ],
   "source": [
    "print(\"\"\"\n",
    "######################################################################################\n",
    "          ___           _     ___                  _      ___           _          \n",
    "  ___ ___| _ ) ___  ___| |__ / __| ___ __ _ _ _ __| |_   | __|_ _  __ _(_)_ _  ___ ©\n",
    " / -_)___| _ \\/ _ \\/ _ \\ / / \\__ \\/ -_) _` | '_/ _| ' \\  | _|| ' \\/ _` | | ' \\/ -_)\n",
    " \\___|   |___/\\___/\\___/_\\_\\ |___/\\___\\__,_|_| \\__|_||_| |___|_||_\\__, |_|_||_\\___|\n",
    "                                                                  |___/            \n",
    "\n",
    "                          __...--~~~~~-._   _.-~~~~~--...__\n",
    "                        //               `V'               \\\\ \n",
    "                       //                 |                 \\\\ \n",
    "                      //__...--~~~~~~-._  |  _.-~~~~~~--...__\\\\ \n",
    "                     //__.....----~~~~._\\ | /_.~~~~----.....__\\\\\n",
    "                    ====================\\\\|//====================\n",
    "                                        `---`\n",
    "######################################################################################\n",
    "\"\"\")\n",
    "\n",
    "# User enters a book lemma to search\n",
    "user_search = input(\"Enter a lemma to search: \")"
   ]
  },
  {
   "cell_type": "code",
   "execution_count": 10,
   "id": "ed3e537b",
   "metadata": {
    "scrolled": true
   },
   "outputs": [],
   "source": [
    "# Run a query in index 'books' of Elasticsearch\n",
    "res = es.search(index='books', query = {\"match\": {\"book_title\": user_search}}, size=10000)"
   ]
  },
  {
   "cell_type": "code",
   "execution_count": 11,
   "id": "716db9ed",
   "metadata": {},
   "outputs": [
    {
     "name": "stderr",
     "output_type": "stream",
     "text": [
      "c:\\users\\papag\\appdata\\local\\programs\\python\\python36\\lib\\site-packages\\beautifultable\\utils.py:125: FutureWarning: 'BeautifulTable.column_headers' has been deprecated in 'v1.0.0' and will be removed in 'v1.2.0'. Use 'BTColumnCollection.header' instead.\n",
      "  warnings.warn(message, FutureWarning)\n"
     ]
    }
   ],
   "source": [
    "# Create a table for better visualization of our data\n",
    "table = BeautifulTable(maxwidth=120)\n",
    "table.column_headers = [\"BOOK RESULTS\", \"BM25 SCORE\"]\n",
    "table.set_style(BeautifulTable.STYLE_RST)"
   ]
  },
  {
   "cell_type": "code",
   "execution_count": 12,
   "id": "bf5f4f23",
   "metadata": {},
   "outputs": [],
   "source": [
    "# Store the results of the query in 'temp' dictionary\n",
    "temp = {}\n",
    "for hit in res['hits']['hits']:\n",
    "    temp[hit['_id']] = [hit['_source']['book_title'], hit['_score']]"
   ]
  },
  {
   "cell_type": "code",
   "execution_count": 13,
   "id": "5410d460",
   "metadata": {},
   "outputs": [],
   "source": [
    "# Enter the data in the table\n",
    "for i in temp.items():\n",
    "    table.rows.append([i[1][0], i[1][1]])"
   ]
  },
  {
   "cell_type": "code",
   "execution_count": 14,
   "id": "26e32ad0",
   "metadata": {},
   "outputs": [
    {
     "name": "stdout",
     "output_type": "stream",
     "text": [
      "=========================================================================================================== ============\n",
      "                                               BOOK RESULTS                                                  BM25 SCORE \n",
      "=========================================================================================================== ============\n",
      "                                               Clara Callan                                                    12.645   \n",
      "                                      Clara Mondschein's Melancholia                                           11.622   \n",
      "                                              Henry and Clara                                                  11.622   \n",
      "                                              Clara : A Novel                                                  11.622   \n",
      "                                          Clara Bow: Runnin' Wild                                              10.752   \n",
      "                                          Clara Joins the Circus                                               10.752   \n",
      "                                    Clara Barton (Women of Achievement)                                        10.003   \n",
      "                                     Sweet Clara and the Freedom Quilt                                         9.351    \n",
      "                                Dancing With Clara (Signet Regency Romance)                                    9.351    \n",
      "                                  Driven to Kill: The Clara Harris Story                                       8.779    \n",
      "                                Clara and the Bookwagon (I Can Read Book 3)                                    7.823    \n",
      "                          This Old House: The Story of Clara Rust Alaska Pioneer                               7.419    \n",
      "             Clara Barton : Founder Of The American Red Cross (Childhood Of Famous Americans)                  6.724    \n",
      "                      The Glory Cloak : A Novel of Louisa May Alcott and Clara Barton                          6.724    \n",
      " South Bay Trails: Outdoor Adventures in & Around Santa Clara Valley : From the Diablo Range to the Pacifi     5.249    \n",
      "                                                  c Ocean                                                               \n",
      "=========================================================================================================== ============\n"
     ]
    }
   ],
   "source": [
    "# Print the results\n",
    "print(table)"
   ]
  },
  {
   "cell_type": "code",
   "execution_count": null,
   "id": "4f7ef6bc",
   "metadata": {},
   "outputs": [],
   "source": []
  }
 ],
 "metadata": {
  "kernelspec": {
   "display_name": "Python 3",
   "language": "python",
   "name": "python3"
  },
  "language_info": {
   "codemirror_mode": {
    "name": "ipython",
    "version": 3
   },
   "file_extension": ".py",
   "mimetype": "text/x-python",
   "name": "python",
   "nbconvert_exporter": "python",
   "pygments_lexer": "ipython3",
   "version": "3.6.8"
  }
 },
 "nbformat": 4,
 "nbformat_minor": 5
}
